{
 "cells": [
  {
   "cell_type": "code",
   "execution_count": 1,
   "metadata": {
    "collapsed": false
   },
   "outputs": [],
   "source": [
    "import numpy as np\n",
    "import matplotlib.pyplot as plt\n",
    "%matplotlib inline"
   ]
  },
  {
   "cell_type": "code",
   "execution_count": 2,
   "metadata": {
    "collapsed": false
   },
   "outputs": [],
   "source": [
    "class Minmax(object):\n",
    "    \n",
    "    '''\n",
    "    This is a simple MinMax algorithm with score-Hashing and Alpha Beta pruning.\n",
    "    The score evaluates a heuristic.\n",
    "    '''\n",
    "    \n",
    "    count = 0\n",
    "    DIC ={}\n",
    "    \n",
    "    def __init__(self):\n",
    "        \n",
    "        #load a DIC with some precalculated values values\n",
    "        try: \n",
    "            self.DIC = self.load_obj('scores')\n",
    "        except (RuntimeError, TypeError, NameError, OSError, IOError):\n",
    "            self.DIC  = {}\n",
    "            print '--> no scores.pkl available. Now it takes way longer to build the tree!!'\n",
    "\n",
    "    def save_obj(self, obj, name ):\n",
    "        import pickle\n",
    "        '''\n",
    "        save a data object\n",
    "        '''\n",
    "        with open(name + '.pkl', 'wb') as f:\n",
    "            pickle.dump(obj, f, pickle.HIGHEST_PROTOCOL)\n",
    "    def load_obj(self, name):\n",
    "        '''\n",
    "        loads a data object\n",
    "        '''\n",
    "        import pickle\n",
    "        with open(name + '.pkl', 'rb') as f:\n",
    "            return pickle.load(f)\n",
    "    \n",
    "    def get_hash_key(self, board):\n",
    "        '''\n",
    "        This function creates a hashkey for a board so it can be stored in the dictionary.\n",
    "        '''\n",
    "        b=np.ndarray.flatten(board)\n",
    "        string_flat=np.char.mod('%d', b)\n",
    "        key = \"\".join(string_flat)\n",
    "        return key\n",
    "    \n",
    "    \n",
    "    #heuristic to evaluate the next best move\n",
    "    def score(self, state, depth, cur_player):\n",
    "        '''\n",
    "        heuristic function that uses Hashing for the scores if they are already calculated\n",
    "        \n",
    "        state: current gameState\n",
    "        depth: current depth\n",
    "        cur_player: current player\n",
    "        \n",
    "        we are using a simple heuristic here,\n",
    "        just counting and punishing good and reward good moves with a weight.\n",
    "        \n",
    "        score = num of(four in row)*1000+ num of(three in row)* 100+ num of(two in row)*10\n",
    "        - num of opponent(four in row)*100000- num of opponent(three in row)*100- \n",
    "        num of opponent(two in row)*10\n",
    "                \n",
    "        returns the score\n",
    "        '''\n",
    "        \n",
    "        if cur_player == 1:\n",
    "            oponent = 2\n",
    "        else:\n",
    "            oponent = 1\n",
    "            \n",
    "        hash_key = self.get_hash_key(state)\n",
    "        \n",
    "        # Score already calculated\n",
    "        if hash_key in self.DIC:\n",
    "            return self.DIC[hash_key]\n",
    "        \n",
    "        # else calculate\n",
    "        else:\n",
    "                \n",
    "            #counting the number of good four/threes/twos in a row/column/diag\n",
    "            _ , b = zip(*(move_was_winning_move(state, cur_player, e) for e in range(2,5)))\n",
    "            _ , c = zip(*(move_was_winning_move(state, oponent, f) for f in range(2,5)))\n",
    "            \n",
    "\n",
    "            score = b[2]*1000+b[1]*100+b[0]*10-c[2]*100000-c[1]*100-c[0]*10\n",
    "            \n",
    "            #and put in DIC\n",
    "            self.DIC[hash_key]  = score\n",
    "            return score\n",
    "    \n",
    "    def listofmoves(self, gameState):\n",
    "        '''\n",
    "        returns a list of possible moves = column not full and orders it with middle first\n",
    "        \n",
    "        gameState: current gamestate\n",
    "        \n",
    "        return: list of possible moves\n",
    "        '''\n",
    "        l=[]\n",
    "        for i in range(gameState.shape[1]):\n",
    "            if 0 in gameState[:,i]:\n",
    "                l.append(i)\n",
    "        \n",
    "        m=sum(l)/len(l)\n",
    "        return sorted(l, key=lambda x:abs(x-m))\n",
    "\n",
    "    \n",
    "    def min_play(self, board, depth, alpha ,beta , cur_player):\n",
    "        '''\n",
    "        recursively building a the tree, min part of minmax\n",
    "        minimzing the score, moving the oponent\n",
    "        \n",
    "        board: a gameState \n",
    "        depth: depth parameter of search tree\n",
    "        cur_player: the current_player's number\n",
    "        \n",
    "        return best score\n",
    "        '''\n",
    "        self.count = self.count+1\n",
    "\n",
    "        #eval current player\n",
    "        if cur_player == 1:\n",
    "            oponent = 2\n",
    "        else:\n",
    "            oponent = 1\n",
    "            \n",
    "        #termination\n",
    "        #max depth\n",
    "        if depth == 0:\n",
    "            return self.score(board, depth, cur_player)\n",
    "        #all full\n",
    "        if not move_still_possible(board):\n",
    "            return self.score(board, depth, cur_player)\n",
    "        #or winner\n",
    "        \n",
    "        winningmove, _ = move_was_winning_move(board, cur_player, 4)\n",
    "        if winningmove:\n",
    "            return self.score(board, depth, cur_player)\n",
    "        \n",
    "\n",
    "        \n",
    "        best_score = np.inf\n",
    "        \n",
    "        #get all available moves\n",
    "        moves = self.listofmoves(board)\n",
    "        best_move = moves[0]\n",
    "        \n",
    "        if len(moves) == 0:\n",
    "            return self.score(board, depth, cur_player)\n",
    "        \n",
    "        for eachmove in moves:\n",
    "            #copy board and move oponent\n",
    "            boardcopy = board.copy()\n",
    "            \n",
    "            board_i, _ , _ = move(boardcopy, oponent, eachmove)\n",
    "            \n",
    "            #build recursivley max\n",
    "            score = self.max_play(board_i, depth-1,alpha ,beta , cur_player)\n",
    "                        \n",
    "            #compare scores MIN\n",
    "            #if score < best_score:\n",
    "            #    best_move = eachmove\n",
    "            #    best_score = score\n",
    "                #print 'if', best_move, best_score\n",
    "                \n",
    "            #with alpha - beta\n",
    "            if score < beta:\n",
    "                beta = score\n",
    "                #best_move = eachmove\n",
    "            if beta <= alpha:\n",
    "                return beta\n",
    "\n",
    "        \n",
    "        return beta#, best_move\n",
    "    \n",
    "    \n",
    "    def max_play(self, board, depth, alpha ,beta , cur_player):\n",
    "        '''\n",
    "        recursively building a the tree, max part of minmax\n",
    "        maximizing the score\n",
    "        \n",
    "        board: a gameState \n",
    "        depth: depth parameter of search tree\n",
    "        cur_player: the current_player's number\n",
    "        \n",
    "        return best score\n",
    "        '''\n",
    "        self.count = self.count+1\n",
    "\n",
    "        #eval current player\n",
    "        if cur_player == 1:\n",
    "            oponent = 2\n",
    "        else:\n",
    "            oponent = 1\n",
    "            \n",
    "        #termination\n",
    "        #max depth\n",
    "        if depth == 0:\n",
    "            return self.score(board, depth, cur_player)\n",
    "        #all full\n",
    "        elif not move_still_possible(board):\n",
    "            return self.score(board, depth, cur_player)\n",
    "        #or winner\n",
    "        winningmove, _ = move_was_winning_move(board, cur_player, 4)\n",
    "        if winningmove:\n",
    "            return self.score(board, depth, cur_player)\n",
    "                \n",
    "        \n",
    "        best_score = -np.inf\n",
    "        \n",
    "        #get all available moves\n",
    "        moves = self.listofmoves(board)\n",
    "        best_move = moves[0]\n",
    "        \n",
    "        if len(moves) == 0:\n",
    "            return self.score(board, depth, cur_player)\n",
    "        \n",
    "        for eachmove in moves:\n",
    "\n",
    "            #copy board and move player\n",
    "            boardcopy = board.copy()\n",
    "            \n",
    "            board_i, _ , _ = move(boardcopy, cur_player, eachmove)\n",
    "            \n",
    "            #build recursivley min\n",
    "            score = self.min_play(board_i, depth-1,alpha ,beta , cur_player)\n",
    "                        \n",
    "            #compare scores MAX\n",
    "            #if score > best_score:\n",
    "            #    best_move = eachmove\n",
    "            #    best_score = score\n",
    "                #print 'if', best_move, best_score\n",
    "            \n",
    "            #with alpha-beta\n",
    "            if score > alpha:\n",
    "                alpha = score\n",
    "                #best_move = eachmove\n",
    "            if alpha >= beta:\n",
    "                return alpha\n",
    "        \n",
    "        return alpha #, best_move\n",
    "    \n",
    "    \n",
    "    def minmax(self, board, cur_player, depth=4, alpha=-np.inf, beta=np.inf):\n",
    "        '''\n",
    "        recursively building a the tree with alpha beta pruning\n",
    "        may not be the best choice but everyone keeps saying: memory is cheap\n",
    "        \n",
    "        board: a gameState \n",
    "        depth: depth parameter of search tree\n",
    "        cur_player: the current_player's number\n",
    "        \n",
    "        return best score, best move\n",
    "        '''\n",
    "        self.count = self.count+1\n",
    "        \n",
    "        #eval current player\n",
    "        if cur_player == 1:\n",
    "            oponent = 2\n",
    "        else:\n",
    "            oponent = 1\n",
    "        \n",
    "        best_score = -np.inf\n",
    "        \n",
    "        #get all available moves\n",
    "        moves = self.listofmoves(board)\n",
    "        best_move = moves[0]\n",
    "\n",
    "        #for each move do\n",
    "        for eachmove in moves:\n",
    "            #print eachmove\n",
    "            #copy board and move\n",
    "            boardcopy = board.copy()               \n",
    "                \n",
    "            #build recursivley\n",
    "            board_i, _ , _ = move(boardcopy, cur_player, eachmove)\n",
    "            \n",
    "            score = self.min_play(board_i, depth-1 ,alpha ,beta,  cur_player)\n",
    "                        \n",
    "            #compare scores\n",
    "            if score > alpha:\n",
    "                alpha = score\n",
    "                best_move = eachmove\n",
    "            if alpha >= beta:\n",
    "                return alpha\n",
    "        \n",
    "        return alpha, best_move"
   ]
  },
  {
   "cell_type": "code",
   "execution_count": 3,
   "metadata": {
    "collapsed": false,
    "scrolled": true
   },
   "outputs": [
    {
     "name": "stdout",
     "output_type": "stream",
     "text": [
      "This is a Minmax vs Random Connect Four simulation: \n",
      "Difficulty: 8\n",
      "0\n",
      "1\n",
      "2\n",
      "3\n"
     ]
    },
    {
     "ename": "KeyboardInterrupt",
     "evalue": "",
     "output_type": "error",
     "traceback": [
      "\u001b[0;31m---------------------------------------------------------------------------\u001b[0m",
      "\u001b[0;31mKeyboardInterrupt\u001b[0m                         Traceback (most recent call last)",
      "\u001b[0;32m<ipython-input-3-0cdb01f7b267>\u001b[0m in \u001b[0;36m<module>\u001b[0;34m()\u001b[0m\n\u001b[1;32m    152\u001b[0m                 \u001b[0;31m# move with Minmax\u001b[0m\u001b[0;34m\u001b[0m\u001b[0;34m\u001b[0m\u001b[0m\n\u001b[1;32m    153\u001b[0m                 \u001b[0;32mif\u001b[0m \u001b[0mplayer\u001b[0m \u001b[0;34m==\u001b[0m \u001b[0;36m1\u001b[0m\u001b[0;34m:\u001b[0m\u001b[0;34m\u001b[0m\u001b[0m\n\u001b[0;32m--> 154\u001b[0;31m                     \u001b[0m_\u001b[0m \u001b[0;34m,\u001b[0m \u001b[0mcol_num\u001b[0m \u001b[0;34m=\u001b[0m \u001b[0mm\u001b[0m\u001b[0;34m.\u001b[0m\u001b[0mminmax\u001b[0m\u001b[0;34m(\u001b[0m\u001b[0mgameState\u001b[0m\u001b[0;34m,\u001b[0m \u001b[0;36m1\u001b[0m\u001b[0;34m,\u001b[0m \u001b[0mdifficulty\u001b[0m\u001b[0;34m,\u001b[0m \u001b[0;34m-\u001b[0m\u001b[0mnp\u001b[0m\u001b[0;34m.\u001b[0m\u001b[0minf\u001b[0m\u001b[0;34m,\u001b[0m \u001b[0mnp\u001b[0m\u001b[0;34m.\u001b[0m\u001b[0minf\u001b[0m\u001b[0;34m)\u001b[0m\u001b[0;34m\u001b[0m\u001b[0m\n\u001b[0m\u001b[1;32m    155\u001b[0m \u001b[0;34m\u001b[0m\u001b[0m\n\u001b[1;32m    156\u001b[0m                 \u001b[0;31m# let player move at random\u001b[0m\u001b[0;34m\u001b[0m\u001b[0;34m\u001b[0m\u001b[0m\n",
      "\u001b[0;32m<ipython-input-2-2b952c6a16ba>\u001b[0m in \u001b[0;36mminmax\u001b[0;34m(self, board, cur_player, depth, alpha, beta)\u001b[0m\n\u001b[1;32m    274\u001b[0m             \u001b[0mboard_i\u001b[0m\u001b[0;34m,\u001b[0m \u001b[0m_\u001b[0m \u001b[0;34m,\u001b[0m \u001b[0m_\u001b[0m \u001b[0;34m=\u001b[0m \u001b[0mmove\u001b[0m\u001b[0;34m(\u001b[0m\u001b[0mboardcopy\u001b[0m\u001b[0;34m,\u001b[0m \u001b[0mcur_player\u001b[0m\u001b[0;34m,\u001b[0m \u001b[0meachmove\u001b[0m\u001b[0;34m)\u001b[0m\u001b[0;34m\u001b[0m\u001b[0m\n\u001b[1;32m    275\u001b[0m \u001b[0;34m\u001b[0m\u001b[0m\n\u001b[0;32m--> 276\u001b[0;31m             \u001b[0mscore\u001b[0m \u001b[0;34m=\u001b[0m \u001b[0mself\u001b[0m\u001b[0;34m.\u001b[0m\u001b[0mmin_play\u001b[0m\u001b[0;34m(\u001b[0m\u001b[0mboard_i\u001b[0m\u001b[0;34m,\u001b[0m \u001b[0mdepth\u001b[0m\u001b[0;34m-\u001b[0m\u001b[0;36m1\u001b[0m \u001b[0;34m,\u001b[0m\u001b[0malpha\u001b[0m \u001b[0;34m,\u001b[0m\u001b[0mbeta\u001b[0m\u001b[0;34m,\u001b[0m  \u001b[0mcur_player\u001b[0m\u001b[0;34m)\u001b[0m\u001b[0;34m\u001b[0m\u001b[0m\n\u001b[0m\u001b[1;32m    277\u001b[0m \u001b[0;34m\u001b[0m\u001b[0m\n\u001b[1;32m    278\u001b[0m             \u001b[0;31m#compare scores\u001b[0m\u001b[0;34m\u001b[0m\u001b[0;34m\u001b[0m\u001b[0m\n",
      "\u001b[0;32m<ipython-input-2-2b952c6a16ba>\u001b[0m in \u001b[0;36mmin_play\u001b[0;34m(self, board, depth, alpha, beta, cur_player)\u001b[0m\n\u001b[1;32m    154\u001b[0m \u001b[0;34m\u001b[0m\u001b[0m\n\u001b[1;32m    155\u001b[0m             \u001b[0;31m#build recursivley max\u001b[0m\u001b[0;34m\u001b[0m\u001b[0;34m\u001b[0m\u001b[0m\n\u001b[0;32m--> 156\u001b[0;31m             \u001b[0mscore\u001b[0m \u001b[0;34m=\u001b[0m \u001b[0mself\u001b[0m\u001b[0;34m.\u001b[0m\u001b[0mmax_play\u001b[0m\u001b[0;34m(\u001b[0m\u001b[0mboard_i\u001b[0m\u001b[0;34m,\u001b[0m \u001b[0mdepth\u001b[0m\u001b[0;34m-\u001b[0m\u001b[0;36m1\u001b[0m\u001b[0;34m,\u001b[0m\u001b[0malpha\u001b[0m \u001b[0;34m,\u001b[0m\u001b[0mbeta\u001b[0m \u001b[0;34m,\u001b[0m \u001b[0mcur_player\u001b[0m\u001b[0;34m)\u001b[0m\u001b[0;34m\u001b[0m\u001b[0m\n\u001b[0m\u001b[1;32m    157\u001b[0m \u001b[0;34m\u001b[0m\u001b[0m\n\u001b[1;32m    158\u001b[0m             \u001b[0;31m#compare scores MIN\u001b[0m\u001b[0;34m\u001b[0m\u001b[0;34m\u001b[0m\u001b[0m\n",
      "\u001b[0;32m<ipython-input-2-2b952c6a16ba>\u001b[0m in \u001b[0;36mmax_play\u001b[0;34m(self, board, depth, alpha, beta, cur_player)\u001b[0m\n\u001b[1;32m    222\u001b[0m \u001b[0;34m\u001b[0m\u001b[0m\n\u001b[1;32m    223\u001b[0m             \u001b[0;31m#build recursivley min\u001b[0m\u001b[0;34m\u001b[0m\u001b[0;34m\u001b[0m\u001b[0m\n\u001b[0;32m--> 224\u001b[0;31m             \u001b[0mscore\u001b[0m \u001b[0;34m=\u001b[0m \u001b[0mself\u001b[0m\u001b[0;34m.\u001b[0m\u001b[0mmin_play\u001b[0m\u001b[0;34m(\u001b[0m\u001b[0mboard_i\u001b[0m\u001b[0;34m,\u001b[0m \u001b[0mdepth\u001b[0m\u001b[0;34m-\u001b[0m\u001b[0;36m1\u001b[0m\u001b[0;34m,\u001b[0m\u001b[0malpha\u001b[0m \u001b[0;34m,\u001b[0m\u001b[0mbeta\u001b[0m \u001b[0;34m,\u001b[0m \u001b[0mcur_player\u001b[0m\u001b[0;34m)\u001b[0m\u001b[0;34m\u001b[0m\u001b[0m\n\u001b[0m\u001b[1;32m    225\u001b[0m \u001b[0;34m\u001b[0m\u001b[0m\n\u001b[1;32m    226\u001b[0m             \u001b[0;31m#compare scores MAX\u001b[0m\u001b[0;34m\u001b[0m\u001b[0;34m\u001b[0m\u001b[0m\n",
      "\u001b[0;32m<ipython-input-2-2b952c6a16ba>\u001b[0m in \u001b[0;36mmin_play\u001b[0;34m(self, board, depth, alpha, beta, cur_player)\u001b[0m\n\u001b[1;32m    154\u001b[0m \u001b[0;34m\u001b[0m\u001b[0m\n\u001b[1;32m    155\u001b[0m             \u001b[0;31m#build recursivley max\u001b[0m\u001b[0;34m\u001b[0m\u001b[0;34m\u001b[0m\u001b[0m\n\u001b[0;32m--> 156\u001b[0;31m             \u001b[0mscore\u001b[0m \u001b[0;34m=\u001b[0m \u001b[0mself\u001b[0m\u001b[0;34m.\u001b[0m\u001b[0mmax_play\u001b[0m\u001b[0;34m(\u001b[0m\u001b[0mboard_i\u001b[0m\u001b[0;34m,\u001b[0m \u001b[0mdepth\u001b[0m\u001b[0;34m-\u001b[0m\u001b[0;36m1\u001b[0m\u001b[0;34m,\u001b[0m\u001b[0malpha\u001b[0m \u001b[0;34m,\u001b[0m\u001b[0mbeta\u001b[0m \u001b[0;34m,\u001b[0m \u001b[0mcur_player\u001b[0m\u001b[0;34m)\u001b[0m\u001b[0;34m\u001b[0m\u001b[0m\n\u001b[0m\u001b[1;32m    157\u001b[0m \u001b[0;34m\u001b[0m\u001b[0m\n\u001b[1;32m    158\u001b[0m             \u001b[0;31m#compare scores MIN\u001b[0m\u001b[0;34m\u001b[0m\u001b[0;34m\u001b[0m\u001b[0m\n",
      "\u001b[0;32m<ipython-input-2-2b952c6a16ba>\u001b[0m in \u001b[0;36mmax_play\u001b[0;34m(self, board, depth, alpha, beta, cur_player)\u001b[0m\n\u001b[1;32m    222\u001b[0m \u001b[0;34m\u001b[0m\u001b[0m\n\u001b[1;32m    223\u001b[0m             \u001b[0;31m#build recursivley min\u001b[0m\u001b[0;34m\u001b[0m\u001b[0;34m\u001b[0m\u001b[0m\n\u001b[0;32m--> 224\u001b[0;31m             \u001b[0mscore\u001b[0m \u001b[0;34m=\u001b[0m \u001b[0mself\u001b[0m\u001b[0;34m.\u001b[0m\u001b[0mmin_play\u001b[0m\u001b[0;34m(\u001b[0m\u001b[0mboard_i\u001b[0m\u001b[0;34m,\u001b[0m \u001b[0mdepth\u001b[0m\u001b[0;34m-\u001b[0m\u001b[0;36m1\u001b[0m\u001b[0;34m,\u001b[0m\u001b[0malpha\u001b[0m \u001b[0;34m,\u001b[0m\u001b[0mbeta\u001b[0m \u001b[0;34m,\u001b[0m \u001b[0mcur_player\u001b[0m\u001b[0;34m)\u001b[0m\u001b[0;34m\u001b[0m\u001b[0m\n\u001b[0m\u001b[1;32m    225\u001b[0m \u001b[0;34m\u001b[0m\u001b[0m\n\u001b[1;32m    226\u001b[0m             \u001b[0;31m#compare scores MAX\u001b[0m\u001b[0;34m\u001b[0m\u001b[0;34m\u001b[0m\u001b[0m\n",
      "\u001b[0;32m<ipython-input-2-2b952c6a16ba>\u001b[0m in \u001b[0;36mmin_play\u001b[0;34m(self, board, depth, alpha, beta, cur_player)\u001b[0m\n\u001b[1;32m    154\u001b[0m \u001b[0;34m\u001b[0m\u001b[0m\n\u001b[1;32m    155\u001b[0m             \u001b[0;31m#build recursivley max\u001b[0m\u001b[0;34m\u001b[0m\u001b[0;34m\u001b[0m\u001b[0m\n\u001b[0;32m--> 156\u001b[0;31m             \u001b[0mscore\u001b[0m \u001b[0;34m=\u001b[0m \u001b[0mself\u001b[0m\u001b[0;34m.\u001b[0m\u001b[0mmax_play\u001b[0m\u001b[0;34m(\u001b[0m\u001b[0mboard_i\u001b[0m\u001b[0;34m,\u001b[0m \u001b[0mdepth\u001b[0m\u001b[0;34m-\u001b[0m\u001b[0;36m1\u001b[0m\u001b[0;34m,\u001b[0m\u001b[0malpha\u001b[0m \u001b[0;34m,\u001b[0m\u001b[0mbeta\u001b[0m \u001b[0;34m,\u001b[0m \u001b[0mcur_player\u001b[0m\u001b[0;34m)\u001b[0m\u001b[0;34m\u001b[0m\u001b[0m\n\u001b[0m\u001b[1;32m    157\u001b[0m \u001b[0;34m\u001b[0m\u001b[0m\n\u001b[1;32m    158\u001b[0m             \u001b[0;31m#compare scores MIN\u001b[0m\u001b[0;34m\u001b[0m\u001b[0;34m\u001b[0m\u001b[0m\n",
      "\u001b[0;32m<ipython-input-2-2b952c6a16ba>\u001b[0m in \u001b[0;36mmax_play\u001b[0;34m(self, board, depth, alpha, beta, cur_player)\u001b[0m\n\u001b[1;32m    222\u001b[0m \u001b[0;34m\u001b[0m\u001b[0m\n\u001b[1;32m    223\u001b[0m             \u001b[0;31m#build recursivley min\u001b[0m\u001b[0;34m\u001b[0m\u001b[0;34m\u001b[0m\u001b[0m\n\u001b[0;32m--> 224\u001b[0;31m             \u001b[0mscore\u001b[0m \u001b[0;34m=\u001b[0m \u001b[0mself\u001b[0m\u001b[0;34m.\u001b[0m\u001b[0mmin_play\u001b[0m\u001b[0;34m(\u001b[0m\u001b[0mboard_i\u001b[0m\u001b[0;34m,\u001b[0m \u001b[0mdepth\u001b[0m\u001b[0;34m-\u001b[0m\u001b[0;36m1\u001b[0m\u001b[0;34m,\u001b[0m\u001b[0malpha\u001b[0m \u001b[0;34m,\u001b[0m\u001b[0mbeta\u001b[0m \u001b[0;34m,\u001b[0m \u001b[0mcur_player\u001b[0m\u001b[0;34m)\u001b[0m\u001b[0;34m\u001b[0m\u001b[0m\n\u001b[0m\u001b[1;32m    225\u001b[0m \u001b[0;34m\u001b[0m\u001b[0m\n\u001b[1;32m    226\u001b[0m             \u001b[0;31m#compare scores MAX\u001b[0m\u001b[0;34m\u001b[0m\u001b[0;34m\u001b[0m\u001b[0m\n",
      "\u001b[0;32m<ipython-input-2-2b952c6a16ba>\u001b[0m in \u001b[0;36mmin_play\u001b[0;34m(self, board, depth, alpha, beta, cur_player)\u001b[0m\n\u001b[1;32m    132\u001b[0m         \u001b[0;31m#or winner\u001b[0m\u001b[0;34m\u001b[0m\u001b[0;34m\u001b[0m\u001b[0m\n\u001b[1;32m    133\u001b[0m \u001b[0;34m\u001b[0m\u001b[0m\n\u001b[0;32m--> 134\u001b[0;31m         \u001b[0mwinningmove\u001b[0m\u001b[0;34m,\u001b[0m \u001b[0m_\u001b[0m \u001b[0;34m=\u001b[0m \u001b[0mmove_was_winning_move\u001b[0m\u001b[0;34m(\u001b[0m\u001b[0mboard\u001b[0m\u001b[0;34m,\u001b[0m \u001b[0mcur_player\u001b[0m\u001b[0;34m,\u001b[0m \u001b[0;36m4\u001b[0m\u001b[0;34m)\u001b[0m\u001b[0;34m\u001b[0m\u001b[0m\n\u001b[0m\u001b[1;32m    135\u001b[0m         \u001b[0;32mif\u001b[0m \u001b[0mwinningmove\u001b[0m\u001b[0;34m:\u001b[0m\u001b[0;34m\u001b[0m\u001b[0m\n\u001b[1;32m    136\u001b[0m             \u001b[0;32mreturn\u001b[0m \u001b[0mself\u001b[0m\u001b[0;34m.\u001b[0m\u001b[0mscore\u001b[0m\u001b[0;34m(\u001b[0m\u001b[0mboard\u001b[0m\u001b[0;34m,\u001b[0m \u001b[0mdepth\u001b[0m\u001b[0;34m,\u001b[0m \u001b[0mcur_player\u001b[0m\u001b[0;34m)\u001b[0m\u001b[0;34m\u001b[0m\u001b[0m\n",
      "\u001b[0;32m<ipython-input-3-0cdb01f7b267>\u001b[0m in \u001b[0;36mmove_was_winning_move\u001b[0;34m(S, p, num)\u001b[0m\n\u001b[1;32m     87\u001b[0m \u001b[0;34m\u001b[0m\u001b[0m\n\u001b[1;32m     88\u001b[0m     \u001b[0;31m#convert to string\u001b[0m\u001b[0;34m\u001b[0m\u001b[0;34m\u001b[0m\u001b[0m\n\u001b[0;32m---> 89\u001b[0;31m     \u001b[0mstringmatrix\u001b[0m \u001b[0;34m=\u001b[0m\u001b[0;34m''\u001b[0m\u001b[0;34m.\u001b[0m\u001b[0mjoin\u001b[0m\u001b[0;34m(\u001b[0m\u001b[0mnp\u001b[0m\u001b[0;34m.\u001b[0m\u001b[0marray_str\u001b[0m\u001b[0;34m(\u001b[0m\u001b[0me\u001b[0m\u001b[0;34m)\u001b[0m \u001b[0;32mfor\u001b[0m \u001b[0me\u001b[0m \u001b[0;32min\u001b[0m \u001b[0ml\u001b[0m\u001b[0;34m)\u001b[0m\u001b[0;34m\u001b[0m\u001b[0m\n\u001b[0m\u001b[1;32m     90\u001b[0m \u001b[0;34m\u001b[0m\u001b[0m\n\u001b[1;32m     91\u001b[0m     \u001b[0;31m#count the occurences\u001b[0m\u001b[0;34m\u001b[0m\u001b[0;34m\u001b[0m\u001b[0m\n",
      "\u001b[0;32m<ipython-input-3-0cdb01f7b267>\u001b[0m in \u001b[0;36m<genexpr>\u001b[0;34m((e,))\u001b[0m\n\u001b[1;32m     87\u001b[0m \u001b[0;34m\u001b[0m\u001b[0m\n\u001b[1;32m     88\u001b[0m     \u001b[0;31m#convert to string\u001b[0m\u001b[0;34m\u001b[0m\u001b[0;34m\u001b[0m\u001b[0m\n\u001b[0;32m---> 89\u001b[0;31m     \u001b[0mstringmatrix\u001b[0m \u001b[0;34m=\u001b[0m\u001b[0;34m''\u001b[0m\u001b[0;34m.\u001b[0m\u001b[0mjoin\u001b[0m\u001b[0;34m(\u001b[0m\u001b[0mnp\u001b[0m\u001b[0;34m.\u001b[0m\u001b[0marray_str\u001b[0m\u001b[0;34m(\u001b[0m\u001b[0me\u001b[0m\u001b[0;34m)\u001b[0m \u001b[0;32mfor\u001b[0m \u001b[0me\u001b[0m \u001b[0;32min\u001b[0m \u001b[0ml\u001b[0m\u001b[0;34m)\u001b[0m\u001b[0;34m\u001b[0m\u001b[0m\n\u001b[0m\u001b[1;32m     90\u001b[0m \u001b[0;34m\u001b[0m\u001b[0m\n\u001b[1;32m     91\u001b[0m     \u001b[0;31m#count the occurences\u001b[0m\u001b[0;34m\u001b[0m\u001b[0;34m\u001b[0m\u001b[0m\n",
      "\u001b[0;32m//anaconda/lib/python2.7/site-packages/numpy/core/numeric.pyc\u001b[0m in \u001b[0;36marray_str\u001b[0;34m(a, max_line_width, precision, suppress_small)\u001b[0m\n\u001b[1;32m   1773\u001b[0m \u001b[0;34m\u001b[0m\u001b[0m\n\u001b[1;32m   1774\u001b[0m     \"\"\"\n\u001b[0;32m-> 1775\u001b[0;31m     \u001b[0;32mreturn\u001b[0m \u001b[0marray2string\u001b[0m\u001b[0;34m(\u001b[0m\u001b[0ma\u001b[0m\u001b[0;34m,\u001b[0m \u001b[0mmax_line_width\u001b[0m\u001b[0;34m,\u001b[0m \u001b[0mprecision\u001b[0m\u001b[0;34m,\u001b[0m \u001b[0msuppress_small\u001b[0m\u001b[0;34m,\u001b[0m \u001b[0;34m' '\u001b[0m\u001b[0;34m,\u001b[0m \u001b[0;34m\"\"\u001b[0m\u001b[0;34m,\u001b[0m \u001b[0mstr\u001b[0m\u001b[0;34m)\u001b[0m\u001b[0;34m\u001b[0m\u001b[0m\n\u001b[0m\u001b[1;32m   1776\u001b[0m \u001b[0;34m\u001b[0m\u001b[0m\n\u001b[1;32m   1777\u001b[0m \u001b[0;32mdef\u001b[0m \u001b[0mset_string_function\u001b[0m\u001b[0;34m(\u001b[0m\u001b[0mf\u001b[0m\u001b[0;34m,\u001b[0m \u001b[0mrepr\u001b[0m\u001b[0;34m=\u001b[0m\u001b[0mTrue\u001b[0m\u001b[0;34m)\u001b[0m\u001b[0;34m:\u001b[0m\u001b[0;34m\u001b[0m\u001b[0m\n",
      "\u001b[0;32m//anaconda/lib/python2.7/site-packages/numpy/core/arrayprint.pyc\u001b[0m in \u001b[0;36marray2string\u001b[0;34m(a, max_line_width, precision, suppress_small, separator, prefix, style, formatter)\u001b[0m\n\u001b[1;32m    445\u001b[0m     \u001b[0;32melse\u001b[0m\u001b[0;34m:\u001b[0m\u001b[0;34m\u001b[0m\u001b[0m\n\u001b[1;32m    446\u001b[0m         lst = _array2string(a, max_line_width, precision, suppress_small,\n\u001b[0;32m--> 447\u001b[0;31m                             separator, prefix, formatter=formatter)\n\u001b[0m\u001b[1;32m    448\u001b[0m     \u001b[0;32mreturn\u001b[0m \u001b[0mlst\u001b[0m\u001b[0;34m\u001b[0m\u001b[0m\n\u001b[1;32m    449\u001b[0m \u001b[0;34m\u001b[0m\u001b[0m\n",
      "\u001b[0;32m//anaconda/lib/python2.7/site-packages/numpy/core/arrayprint.pyc\u001b[0m in \u001b[0;36m_array2string\u001b[0;34m(a, max_line_width, precision, suppress_small, separator, prefix, formatter)\u001b[0m\n\u001b[1;32m    323\u001b[0m     lst = _formatArray(a, format_function, len(a.shape), max_line_width,\n\u001b[1;32m    324\u001b[0m                        \u001b[0mnext_line_prefix\u001b[0m\u001b[0;34m,\u001b[0m \u001b[0mseparator\u001b[0m\u001b[0;34m,\u001b[0m\u001b[0;34m\u001b[0m\u001b[0m\n\u001b[0;32m--> 325\u001b[0;31m                        _summaryEdgeItems, summary_insert)[:-1]\n\u001b[0m\u001b[1;32m    326\u001b[0m     \u001b[0;32mreturn\u001b[0m \u001b[0mlst\u001b[0m\u001b[0;34m\u001b[0m\u001b[0m\n\u001b[1;32m    327\u001b[0m \u001b[0;34m\u001b[0m\u001b[0m\n",
      "\u001b[0;32m//anaconda/lib/python2.7/site-packages/numpy/core/arrayprint.pyc\u001b[0m in \u001b[0;36m_formatArray\u001b[0;34m(a, format_function, rank, max_line_len, next_line_prefix, separator, edge_items, summary_insert)\u001b[0m\n\u001b[1;32m    517\u001b[0m             s += _formatArray(a[-i], format_function, rank-1, max_line_len,\n\u001b[1;32m    518\u001b[0m                               \u001b[0;34m\" \"\u001b[0m \u001b[0;34m+\u001b[0m \u001b[0mnext_line_prefix\u001b[0m\u001b[0;34m,\u001b[0m \u001b[0mseparator\u001b[0m\u001b[0;34m,\u001b[0m \u001b[0medge_items\u001b[0m\u001b[0;34m,\u001b[0m\u001b[0;34m\u001b[0m\u001b[0m\n\u001b[0;32m--> 519\u001b[0;31m                               summary_insert)\n\u001b[0m\u001b[1;32m    520\u001b[0m             \u001b[0ms\u001b[0m \u001b[0;34m=\u001b[0m \u001b[0ms\u001b[0m\u001b[0;34m.\u001b[0m\u001b[0mrstrip\u001b[0m\u001b[0;34m(\u001b[0m\u001b[0;34m)\u001b[0m \u001b[0;34m+\u001b[0m \u001b[0msep\u001b[0m\u001b[0;34m.\u001b[0m\u001b[0mrstrip\u001b[0m\u001b[0;34m(\u001b[0m\u001b[0;34m)\u001b[0m \u001b[0;34m+\u001b[0m \u001b[0;34m'\\n'\u001b[0m\u001b[0;34m*\u001b[0m\u001b[0mmax\u001b[0m\u001b[0;34m(\u001b[0m\u001b[0mrank\u001b[0m\u001b[0;34m-\u001b[0m\u001b[0;36m1\u001b[0m\u001b[0;34m,\u001b[0m \u001b[0;36m1\u001b[0m\u001b[0;34m)\u001b[0m\u001b[0;34m\u001b[0m\u001b[0m\n\u001b[1;32m    521\u001b[0m         \u001b[0;32mif\u001b[0m \u001b[0mleading_items\u001b[0m \u001b[0;32mor\u001b[0m \u001b[0mtrailing_items\u001b[0m \u001b[0;34m>\u001b[0m \u001b[0;36m1\u001b[0m\u001b[0;34m:\u001b[0m\u001b[0;34m\u001b[0m\u001b[0m\n",
      "\u001b[0;32m//anaconda/lib/python2.7/site-packages/numpy/core/arrayprint.pyc\u001b[0m in \u001b[0;36m_formatArray\u001b[0;34m(a, format_function, rank, max_line_len, next_line_prefix, separator, edge_items, summary_insert)\u001b[0m\n\u001b[1;32m    491\u001b[0m \u001b[0;34m\u001b[0m\u001b[0m\n\u001b[1;32m    492\u001b[0m         \u001b[0;32mfor\u001b[0m \u001b[0mi\u001b[0m \u001b[0;32min\u001b[0m \u001b[0mrange\u001b[0m\u001b[0;34m(\u001b[0m\u001b[0mtrailing_items\u001b[0m\u001b[0;34m,\u001b[0m \u001b[0;36m1\u001b[0m\u001b[0;34m,\u001b[0m \u001b[0;34m-\u001b[0m\u001b[0;36m1\u001b[0m\u001b[0;34m)\u001b[0m\u001b[0;34m:\u001b[0m\u001b[0;34m\u001b[0m\u001b[0m\n\u001b[0;32m--> 493\u001b[0;31m             \u001b[0mword\u001b[0m \u001b[0;34m=\u001b[0m \u001b[0mformat_function\u001b[0m\u001b[0;34m(\u001b[0m\u001b[0ma\u001b[0m\u001b[0;34m[\u001b[0m\u001b[0;34m-\u001b[0m\u001b[0mi\u001b[0m\u001b[0;34m]\u001b[0m\u001b[0;34m)\u001b[0m \u001b[0;34m+\u001b[0m \u001b[0mseparator\u001b[0m\u001b[0;34m\u001b[0m\u001b[0m\n\u001b[0m\u001b[1;32m    494\u001b[0m             \u001b[0ms\u001b[0m\u001b[0;34m,\u001b[0m \u001b[0mline\u001b[0m \u001b[0;34m=\u001b[0m \u001b[0m_extendLine\u001b[0m\u001b[0;34m(\u001b[0m\u001b[0ms\u001b[0m\u001b[0;34m,\u001b[0m \u001b[0mline\u001b[0m\u001b[0;34m,\u001b[0m \u001b[0mword\u001b[0m\u001b[0;34m,\u001b[0m \u001b[0mmax_line_len\u001b[0m\u001b[0;34m,\u001b[0m \u001b[0mnext_line_prefix\u001b[0m\u001b[0;34m)\u001b[0m\u001b[0;34m\u001b[0m\u001b[0m\n\u001b[1;32m    495\u001b[0m \u001b[0;34m\u001b[0m\u001b[0m\n",
      "\u001b[0;32m//anaconda/lib/python2.7/site-packages/numpy/core/arrayprint.pyc\u001b[0m in \u001b[0;36m__call__\u001b[0;34m(self, x)\u001b[0m\n\u001b[1;32m    648\u001b[0m     \u001b[0;32mdef\u001b[0m \u001b[0m__call__\u001b[0m\u001b[0;34m(\u001b[0m\u001b[0mself\u001b[0m\u001b[0;34m,\u001b[0m \u001b[0mx\u001b[0m\u001b[0;34m)\u001b[0m\u001b[0;34m:\u001b[0m\u001b[0;34m\u001b[0m\u001b[0m\n\u001b[1;32m    649\u001b[0m         \u001b[0;32mif\u001b[0m \u001b[0m_MININT\u001b[0m \u001b[0;34m<\u001b[0m \u001b[0mx\u001b[0m \u001b[0;34m<\u001b[0m \u001b[0m_MAXINT\u001b[0m\u001b[0;34m:\u001b[0m\u001b[0;34m\u001b[0m\u001b[0m\n\u001b[0;32m--> 650\u001b[0;31m             \u001b[0;32mreturn\u001b[0m \u001b[0mself\u001b[0m\u001b[0;34m.\u001b[0m\u001b[0mformat\u001b[0m \u001b[0;34m%\u001b[0m \u001b[0mx\u001b[0m\u001b[0;34m\u001b[0m\u001b[0m\n\u001b[0m\u001b[1;32m    651\u001b[0m         \u001b[0;32melse\u001b[0m\u001b[0;34m:\u001b[0m\u001b[0;34m\u001b[0m\u001b[0m\n\u001b[1;32m    652\u001b[0m             \u001b[0;32mreturn\u001b[0m \u001b[0;34m\"%s\"\u001b[0m \u001b[0;34m%\u001b[0m \u001b[0mx\u001b[0m\u001b[0;34m\u001b[0m\u001b[0m\n",
      "\u001b[0;31mKeyboardInterrupt\u001b[0m: "
     ]
    }
   ],
   "source": [
    "#import numpy as np\n",
    "\n",
    "\n",
    "def move_is_correct(grid,num):\n",
    "    '''\n",
    "    @param grid: 6x7 grid containing the current game state\n",
    "    @param num: column\n",
    "\n",
    "    returns True if move is allowed on that column\n",
    "    '''\n",
    "\n",
    "    #if 0 is in column\n",
    "    if 0 in grid[:,num]:\n",
    "    \n",
    "        #move is allowed\n",
    "        return True\n",
    "\n",
    "    else:\n",
    "\n",
    "        return False\n",
    "\n",
    "def move_still_possible(S):\n",
    "    '''\n",
    "    @param S: 6x7 grid containing the current game state\n",
    "    returns True if grid contains no 0, therefore no move possible anymore\n",
    "    '''\n",
    "    return not(S[S==0].size == 0)\n",
    "\n",
    "\n",
    "def move(S,p,col_num):\n",
    "    '''\n",
    "    @param S: 6x7 grid containing the current game state\n",
    "    @param p: current player\n",
    "    @param col_num: column number\n",
    "    \n",
    "    sets the player's number on the grid and returns the grid\n",
    "    '''\n",
    "    \n",
    "    #sanity check\n",
    "    if 0 in S[:,col_num]:    \n",
    "        y = np.where(S[:,col_num]==0)[0][-1]\n",
    "        S[y,col_num] = p\n",
    "        return S , y, col_num\n",
    "    else:\n",
    "        return S, None, None\n",
    "        return \n",
    "\n",
    "def move_at_random(S):\n",
    "    '''\n",
    "    @param S: 6x7 grid containing the current game state\n",
    "    moves at random\n",
    "    '''\n",
    "    return np.random.randint(0,S.shape[1])\n",
    "\n",
    "\n",
    "#neat and ugly but the fastest way to search a matrix for a vector is a string find\n",
    "player1=[' ','1', '1 1', '1 1 1', '1 1 1 1']\n",
    "oponent=[' ','1', '2 2', '2 2 2', '2 2 2 2']\n",
    "\n",
    "\n",
    "def move_was_winning_move(S, p, num):\n",
    "    '''\n",
    "    @param S: 6x7 grid containing the current game state\n",
    "    @param p: current player\n",
    "    @param num: how many occurences to count\n",
    "    \n",
    "    combines all the allowed formations of the grid and string_finds with \n",
    "    the currents player vector. Returns true if match.\n",
    "    \n",
    "    return: True or False whether move was winning move or not,\n",
    "            and count of occurences\n",
    "    '''\n",
    "    if p == 1:\n",
    "        match = player1[num]\n",
    "    else:\n",
    "        match = oponent[num]\n",
    "\n",
    "    l=[]\n",
    "    #for every possible diag\n",
    "    for i in range(-2,4):\n",
    "        l.append(np.diag(S,k = i))\n",
    "        l.append(np.diag(np.fliplr(S),k=i))\n",
    "    #left to right\n",
    "    l.append(S)\n",
    "    #top to bottom\n",
    "    l.append(np.rot90(S)) \n",
    "    \n",
    "    #convert to string\n",
    "    stringmatrix =''.join(np.array_str(e) for e in l)\n",
    "    \n",
    "    #count the occurences\n",
    "    counter = stringmatrix.count(match)\n",
    "    \n",
    "    #print stringmatrix\n",
    "    \n",
    "    #if four in a row\n",
    "    if num == 4 and counter == 1:\n",
    "        return True, counter\n",
    "    return False, counter\n",
    "\n",
    "\n",
    "\n",
    "\n",
    "\n",
    "# relate numbers (1, -1, 0) to symbols ('x', 'o', ' ')\n",
    "symbols = {1:'m', 2:'r', 0:' '}\n",
    "\n",
    "# print game state matrix using symbols\n",
    "def print_game_state(S):\n",
    "    B = np.copy(S).astype(object)\n",
    "    for n in [1, 2, 0]:\n",
    "        B[B==n] = symbols[n]\n",
    "    print B\n",
    "\n",
    "\n",
    "\n",
    "\n",
    "\n",
    "if __name__ == '__main__':\n",
    "    # initialize 6x7 connectfour board\n",
    "        # initialize array that counts how often a cell contributed to a win\n",
    "    final = np.zeros((6,7), dtype = float)  \n",
    "    outcomes = []\n",
    "    mvcntrlist = []\n",
    "    nodeslist = []\n",
    "    \n",
    "    print 'This is a Minmax vs Random Connect Four simulation: '\n",
    "    difficulty = int(raw_input('Difficulty: '))\n",
    "    \n",
    "    for i in range(10):\n",
    "        \n",
    "        gameState = np.zeros((6,7), dtype=int)\n",
    "\n",
    "        # initialize player number, move counter\n",
    "        player = 1\n",
    "        mvcntr = 1\n",
    "\n",
    "        # initialize flag that indicates win\n",
    "        noWinnerYet = True\n",
    "\n",
    "        m = Minmax()\n",
    "        size = len(m.DIC)\n",
    "\n",
    "\n",
    "        while move_still_possible(gameState) and noWinnerYet:\n",
    "\n",
    "            while True:\n",
    "                # get player symbol\n",
    "                name = symbols[player]\n",
    "                #print '%s moves' % name\n",
    "\n",
    "                # move with Minmax\n",
    "                if player == 1:\n",
    "                    _ , col_num = m.minmax(gameState, 1, difficulty, -np.inf, np.inf)\n",
    "                \n",
    "                # let player move at random\n",
    "                else:\n",
    "                    col_num = move_at_random(gameState)\n",
    "\n",
    "                if move_is_correct(gameState, col_num):\n",
    "                    gameState, _ , _ = move(gameState,player,col_num)\n",
    "\n",
    "                    # print current game state\n",
    "                    #print_game_state(gameState)\n",
    "\n",
    "                    # evaluate game state\n",
    "                    winningmove, _ = move_was_winning_move(gameState, player, 4)\n",
    "                    if winningmove:\n",
    "                        \n",
    "                        # determine who won\n",
    "                        winner = player\n",
    "                        \n",
    "                        # get the positions of the fields the winner selected\n",
    "                        xp, yp = np.where(gameState == winner)\n",
    "                        \n",
    "                        # update \"final\" which counts how often a cell contributed\n",
    "                        # to a win\n",
    "                        final[xp,yp] +=1\n",
    "                        #for i in range(0, len(xp)):\n",
    "                        #    final[xp[i], yp[i]] += 1\n",
    "                \n",
    "                        noWinnerYet = False\n",
    "                        \n",
    "                        #add to list which winner\n",
    "                        outcomes.append(player)\n",
    "                        #how many moves\n",
    "                        mvcntrlist.append(mvcntr)\n",
    "                        #how many nodes\n",
    "                        nodeslist.append(m.count)\n",
    "\n",
    "                    # switch player and increase move counter\n",
    "                    if player == 1:\n",
    "                        player = 2\n",
    "                    elif player == 2:\n",
    "                        player = 1\n",
    "\n",
    "                    mvcntr +=  1\n",
    "\n",
    "                    break\n",
    "\n",
    "\n",
    "\n",
    "\n",
    "        if noWinnerYet:\n",
    "            outcomes.append(0)\n",
    "\n",
    "            #save new DIC to increase\n",
    "        if size < len(m.DIC):\n",
    "            m.save_obj(m.DIC,'scores')\n",
    "        \n",
    "            #print 'game ended in a draw' \n",
    "        print i\n",
    "\n",
    "    print 'length of DIC:',len(m.DIC)\n",
    "    print 'number of nodes:', m.count\n",
    "    print 'Finished'\n",
    "    \n",
    "    # normalize the count data and store it on disk\n",
    "    normed_final = final / np.sum(final, dtype=np.float)\n",
    "    print normed_final\n",
    "    np.savetxt(\"normed_count.csv\", normed_final, delimiter=\",\")"
   ]
  },
  {
   "cell_type": "code",
   "execution_count": 31,
   "metadata": {
    "collapsed": false
   },
   "outputs": [
    {
     "data": {
      "image/png": "[encoded data removed]",
      "text/plain": [
       "<matplotlib.figure.Figure at 0x1116821d0>"
      ]
     },
     "metadata": {},
     "output_type": "display_data"
    }
   ],
   "source": [
    "data = normed_final\n",
    "fig, ax = plt.subplots()\n",
    "heatmap = ax.pcolor(data)\n",
    "cbar = plt.colorbar(heatmap)\n",
    "ax.set_xticks([])\n",
    "ax.set_yticks([])\n",
    "\n",
    "ax.invert_yaxis()\n",
    "\n",
    "plt.title('Heatmap after 200 games  \\n')\n",
    "plt.show()"
   ]
  },
  {
   "cell_type": "markdown",
   "metadata": {},
   "source": [
    "## Tournament Minmax vs Random"
   ]
  },
  {
   "cell_type": "code",
   "execution_count": 35,
   "metadata": {
    "collapsed": false
   },
   "outputs": [
    {
     "data": {
      "text/plain": [
       "[<matplotlib.text.Text at 0x1161e5690>,\n",
       " <matplotlib.text.Text at 0x1163c8c90>,\n",
       " <matplotlib.text.Text at 0x116a36590>]"
      ]
     },
     "execution_count": 35,
     "metadata": {},
     "output_type": "execute_result"
    },
    {
     "data": {
      "image/png": "[encoded data removed]",
      "text/plain": [
       "<matplotlib.figure.Figure at 0x114a42d50>"
      ]
     },
     "metadata": {},
     "output_type": "display_data"
    }
   ],
   "source": [
    "his = plt.hist(outcomes,bins=3)\n",
    "offset = -.18\n",
    "plt.title(\"1st Tournament, draws and wins, depth=4\")\n",
    "#plt.xlabel(\"left: o wins, middle: draw, right: x wins\")\n",
    "plt.ylabel(\"# Games\") \n",
    "axes = plt.gca()\n",
    "axes.set_ylim([1,201]) # y axis should include all 2000 games\n",
    "#axes.set_xlim([0,0])\n",
    "axes.set_xticks(his[1][1:]+offset)\n",
    "axes.set_xticklabels( ('Random', 'Minmax', 'draw') )   "
   ]
  },
  {
   "cell_type": "code",
   "execution_count": 36,
   "metadata": {
    "collapsed": false
   },
   "outputs": [
    {
     "data": {
      "text/plain": [
       "(0, 200, 0)"
      ]
     },
     "execution_count": 36,
     "metadata": {},
     "output_type": "execute_result"
    }
   ],
   "source": [
    "outcomes.count(0), outcomes.count(1), outcomes.count(2)"
   ]
  },
  {
   "cell_type": "code",
   "execution_count": 37,
   "metadata": {
    "collapsed": false
   },
   "outputs": [
    {
     "data": {
      "image/png": "[encoded data removed]",
      "text/plain": [
       "<matplotlib.figure.Figure at 0x114954450>"
      ]
     },
     "metadata": {},
     "output_type": "display_data"
    }
   ],
   "source": [
    "his = plt.hist(mvcntrlist,bins=max(mvcntrlist))\n",
    "plt.title(\"1st Tournament, # of moves, depth=4\")\n",
    "#plt.xlabel(\"left: o wins, middle: draw, right: x wins\")\n",
    "plt.ylabel(\"# Games\")\n",
    "plt.xlabel('# of moves')\n",
    "axes = plt.gca()"
   ]
  },
  {
   "cell_type": "code",
   "execution_count": 38,
   "metadata": {
    "collapsed": false
   },
   "outputs": [
    {
     "data": {
      "image/png": "[encoded data removed]",
      "text/plain": [
       "<matplotlib.figure.Figure at 0x110b7add0>"
      ]
     },
     "metadata": {},
     "output_type": "display_data"
    }
   ],
   "source": [
    "his = plt.hist(nodeslist,bins=max(nodeslist))\n",
    "plt.title(\"1st Tournament, # of nodes , depth=4\")\n",
    "#plt.xlabel(\"left: o wins, middle: draw, right: x wins\")\n",
    "plt.ylabel(\"# Games\")\n",
    "plt.xlabel('# of nodes')\n",
    "axes = plt.gca()"
   ]
  },
  {
   "cell_type": "markdown",
   "metadata": {},
   "source": [
    "# cProfile\n",
    "with command:  python -m cProfile -s cumtime connectfour-withMinmax.py\n",
    "\n",
    "#### Depth 2: \n",
    "\n",
    "11008374 function calls (10559783 primitive calls) in 14.654 seconds\n",
    "\n",
    "10845027 function calls (10398214 primitive calls) in 12.555 seconds\n",
    "\n",
    "8587527 function calls (8188635 primitive calls) in 7.127 seconds\n",
    "\n",
    "#### Depth 3:\n",
    "\n",
    "3336653 function calls (3330229 primitive calls) in 4.693 seconds\n",
    "\n",
    "10010685 function calls (9583101 primitive calls) in 9.372 seconds\n",
    "\n",
    "#### Depth 4:\n",
    "\n",
    "19532712 function calls (18898637 primitive calls) in 24.994 seconds\n",
    "\n",
    "#### Depth 5\n",
    "69043885 function calls (67314936 primitive calls) in 118.056 seconds\n"
   ]
  },
  {
   "cell_type": "markdown",
   "metadata": {
    "collapsed": true
   },
   "source": [
    "### Time the Building of a minmax tree\n",
    "with a timer method"
   ]
  },
  {
   "cell_type": "code",
   "execution_count": 14,
   "metadata": {
    "collapsed": true
   },
   "outputs": [],
   "source": [
    "import time\n",
    "def timing(f):\n",
    "    def wrap(*args):\n",
    "        time1 = time.time()\n",
    "        ret = f(*args)\n",
    "        time2 = time.time()\n",
    "        print '%s function took %0.3f ms' % (f.func_name, (time2-time1)*1000.0)\n",
    "        return ret\n",
    "    return wrap"
   ]
  },
  {
   "cell_type": "code",
   "execution_count": 15,
   "metadata": {
    "collapsed": true
   },
   "outputs": [],
   "source": [
    "testgame=np.array([[0,0,0,0,0,0,0],\n",
    " [0,0,0,0,0,0,0],\n",
    " [0,0,0,0,0,0,0],\n",
    " [0,0,0,0,0,0,0],\n",
    " [0,0,0,0,0,0,0],\n",
    " [0,0,0,0,0,0,0]])"
   ]
  },
  {
   "cell_type": "code",
   "execution_count": 21,
   "metadata": {
    "collapsed": true
   },
   "outputs": [],
   "source": [
    "m = Minmax()\n",
    "@timing\n",
    "def do_work(dif):\n",
    "    return m.minmax(testgame, 1, dif, -np.inf, np.inf)"
   ]
  },
  {
   "cell_type": "code",
   "execution_count": 25,
   "metadata": {
    "collapsed": false
   },
   "outputs": [
    {
     "name": "stdout",
     "output_type": "stream",
     "text": [
      "do_work function took 1.235 ms\n",
      "do_work function took 34.304 ms\n",
      "do_work function took 94.698 ms\n",
      "do_work function took 288.690 ms\n",
      "do_work function took 2281.134 ms\n",
      "do_work function took 3482.528 ms\n"
     ]
    }
   ],
   "source": [
    "for i in range(1,7):\n",
    "    do_work(i)"
   ]
  },
  {
   "cell_type": "code",
   "execution_count": 33,
   "metadata": {
    "collapsed": true
   },
   "outputs": [],
   "source": [
    "t=[0,1.235,34.304,94.698,288.690,2281.134,3482.528]"
   ]
  },
  {
   "cell_type": "code",
   "execution_count": 37,
   "metadata": {
    "collapsed": false
   },
   "outputs": [
    {
     "data": {
      "text/plain": [
       "(1, 7)"
      ]
     },
     "execution_count": 37,
     "metadata": {},
     "output_type": "execute_result"
    },
    {
     "data": {
      "image/png": "[encoded data removed]",
      "text/plain": [
       "<matplotlib.figure.Figure at 0x10f6ce110>"
      ]
     },
     "metadata": {},
     "output_type": "display_data"
    }
   ],
   "source": [
    "plt.plot(t)\n",
    "plt.title('Time per Depth for building Minmax tree')\n",
    "plt.xlabel('depth')\n",
    "plt.ylabel('time in ms')\n",
    "plt.xlim(1,7)"
   ]
  },
  {
   "cell_type": "code",
   "execution_count": null,
   "metadata": {
    "collapsed": true
   },
   "outputs": [],
   "source": []
  }
 ],
 "metadata": {
  "kernelspec": {
   "display_name": "Python 2",
   "language": "python",
   "name": "python2"
  },
  "language_info": {
   "codemirror_mode": {
    "name": "ipython",
    "version": 2
   },
   "file_extension": ".py",
   "mimetype": "text/x-python",
   "name": "python",
   "nbconvert_exporter": "python",
   "pygments_lexer": "ipython2",
   "version": "2.7.11"
  }
 },
 "nbformat": 4,
 "nbformat_minor": 0
}
