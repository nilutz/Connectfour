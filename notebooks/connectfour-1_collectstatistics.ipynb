{
 "cells": [
  {
   "cell_type": "code",
   "execution_count": 2,
   "metadata": {
    "collapsed": true
   },
   "outputs": [],
   "source": [
    "import matplotlib.pyplot as plt\n",
    "%matplotlib inline"
   ]
  },
  {
   "cell_type": "code",
   "execution_count": 3,
   "metadata": {
    "collapsed": false
   },
   "outputs": [
    {
     "name": "stdout",
     "output_type": "stream",
     "text": [
      "Finished\n",
      "[[ 0.13746631  0.13342318  0.15229111  0.14959569  0.14285714  0.12668464\n",
      "   0.15768194]\n",
      " [ 0.14356787  0.15209666  0.13503909  0.1286425   0.14498934  0.14214641\n",
      "   0.15351812]\n",
      " [ 0.14387031  0.14184397  0.1465721   0.14927389  0.14049308  0.14116852\n",
      "   0.13677812]\n",
      " [ 0.12914148  0.13857316  0.15187424  0.15114873  0.15767836  0.14631197\n",
      "   0.12527207]\n",
      " [ 0.12670176  0.13850064  0.15356689  0.15937557  0.15411145  0.14086041\n",
      "   0.12688328]\n",
      " [ 0.1253174   0.1351755   0.14861837  0.17401046  0.15294996  0.13726662\n",
      "   0.12666169]]\n"
     ]
    }
   ],
   "source": [
    "import numpy as np\n",
    "from sklearn.preprocessing import normalize\n",
    "\n",
    "def move_is_correct(grid,num):\n",
    "    '''\n",
    "    @param grid: 6x7 grid containing the current game state\n",
    "    @param num: column\n",
    "\n",
    "    returns True if move is allowed on that column\n",
    "    '''\n",
    "\n",
    "    #if 0 is in column\n",
    "    if 0 in grid[:,num]:\n",
    "    \n",
    "        #move is allowed\n",
    "        return True\n",
    "\n",
    "    else:\n",
    "\n",
    "        return False\n",
    "\n",
    "def move_still_possible(S):\n",
    "    '''\n",
    "    @param S: 6x7 grid containing the current game state\n",
    "    returns True if grid contains no 0, therefore no move possible anymore\n",
    "    '''\n",
    "    return not(S[S==0].size == 0)\n",
    "\n",
    "\n",
    "def move(S,p,col_num):\n",
    "    '''\n",
    "    @param S: 6x7 grid containing the current game state\n",
    "    @param p: current player\n",
    "    @param col_num: column number\n",
    "    \n",
    "    sets the player's number on the grid and returns the grid\n",
    "    '''\n",
    "    \n",
    "    #sanity check\n",
    "    if 0 in S[:,col_num]:    \n",
    "        y = np.where(S[:,col_num]==0)[0][-1]\n",
    "        S[y,col_num] = p\n",
    "        return S , y, col_num\n",
    "    else:\n",
    "        return S, None, None\n",
    "        return \n",
    "\n",
    "def move_at_random(S):\n",
    "    '''\n",
    "    @param S: 6x7 grid containing the current game state\n",
    "    moves at random\n",
    "    '''\n",
    "    return np.random.randint(0,S.shape[1])\n",
    "\n",
    "\n",
    "#neat and ugly but the fastest way to search a matrix for a vector is a string find\n",
    "player1 = '1 1 1 1'\n",
    "oponent = '2 2 2 2'\n",
    "\n",
    "def move_was_winning_move(S, p):\n",
    "    '''\n",
    "    @param S: 6x7 grid containing the current game state\n",
    "    @param p: current player\n",
    "    \n",
    "    combines all the allowed formations of the grid and string_finds with \n",
    "    the currents player vector. Returns true if match.\n",
    "    '''\n",
    "    if p == 1:\n",
    "        match = player1\n",
    "    else:\n",
    "        match = oponent \n",
    "\n",
    "    l=[]\n",
    "    #for every possible diag\n",
    "    for i in range(-2,4):\n",
    "        l.append(np.diag(S,k = i))\n",
    "        l.append(np.diag(np.fliplr(S),k=i))\n",
    "    #left to right\n",
    "    l.append(S)\n",
    "    #top to bottom\n",
    "    l.append(np.rot90(S)) \n",
    "\n",
    "    if ''.join(np.array_str(e) for e in l).find(match) > -1:\n",
    "        return True\n",
    "    return False\n",
    "\n",
    "\n",
    "\n",
    "# relate numbers (1, -1, 0) to symbols ('x', 'o', ' ')\n",
    "symbols = {1:'x', 2:'o', 0:' '}\n",
    "\n",
    "# print game state matrix using symbols\n",
    "def print_game_state(S):\n",
    "    B = np.copy(S).astype(object)\n",
    "    for n in [1, 2, 0]:\n",
    "        B[B==n] = symbols[n]\n",
    "    print B\n",
    "\n",
    "\n",
    "\n",
    "\n",
    "\n",
    "if __name__ == '__main__':\n",
    "    \n",
    "    # initialize array that counts how often a cell contributed to a win\n",
    "    final = np.zeros((6,7), dtype = float)  \n",
    "    outcomes = []\n",
    "    \n",
    "    for i in range(2000):\n",
    "        # initialize 6x7 connectfour board\n",
    "        gameState = np.zeros((6,7), dtype=int)\n",
    "\n",
    "        # initialize player number, move counter\n",
    "        player = 1\n",
    "        mvcntr = 1\n",
    "\n",
    "        # initialize flag that indicates win\n",
    "        noWinnerYet = True\n",
    "\n",
    "\n",
    "        while move_still_possible(gameState) and noWinnerYet:\n",
    "            \n",
    "            while True:\n",
    "                # get player symbol\n",
    "                name = symbols[player]\n",
    "                #print '%s moves' % name\n",
    "                \n",
    "                # let player move at random\n",
    "                col_num = move_at_random(gameState)\n",
    "                if move_is_correct(gameState, col_num):\n",
    "                    gameState, _ , _ = move(gameState,player,col_num)\n",
    "\n",
    "                    #print current game state\n",
    "                    #print_game_state(gameState)\n",
    "\n",
    "                    # evaluate game state\n",
    "                    if move_was_winning_move(gameState, player):\n",
    "                        #print 'player %s wins after %d moves' % (name, mvcntr)\n",
    "\n",
    "                        # determine who won\n",
    "                        winner = player\n",
    "                        # get the positions of the fields the winner selected\n",
    "                        xp, yp = np.where(gameState == winner)\n",
    "                        # update \"final\" which counts how often a cell contributed\n",
    "                        # to a win\n",
    "                        final[xp,yp] +=1\n",
    "                        #for i in range(0, len(xp)):\n",
    "                        #    final[xp[i], yp[i]] += 1\n",
    "                \n",
    "                        noWinnerYet = False\n",
    "                        \n",
    "                        #add to outcomes list which winner\n",
    "                        outcomes.append(player)\n",
    "\n",
    "                    # switch player and increase move counter\n",
    "                    if player == 1:\n",
    "                        player = 2\n",
    "                    else :\n",
    "                        player = 1\n",
    "\n",
    "                    mvcntr +=  1\n",
    "                \n",
    "                    break\n",
    "\n",
    "        if noWinnerYet:\n",
    "            #0 for draw\n",
    "            outcomes.append(0)\n",
    "            #print 'game ended in a draw' \n",
    "            \n",
    "    print 'Finished'\n",
    "    \n",
    "    # normalize the count data and store it on disk\n",
    "    normed_final = (normalize(final, axis=1, norm='l1'))\n",
    "    print normed_final\n",
    "    np.savetxt(\"normed_count.csv\", normed_final, delimiter=\",\")\n"
   ]
  },
  {
   "cell_type": "code",
   "execution_count": 4,
   "metadata": {
    "collapsed": false
   },
   "outputs": [
    {
     "data": {
      "image/png": "[encoded data removed]",
      "text/plain": [
       "<matplotlib.figure.Figure at 0x10a8305d0>"
      ]
     },
     "metadata": {},
     "output_type": "display_data"
    }
   ],
   "source": [
    "column_labels = list('012345')\n",
    "row_labels = list('0123456')\n",
    "data = normed_final\n",
    "fig, ax = plt.subplots()\n",
    "heatmap = ax.pcolor(data)\n",
    "\n",
    "# put the major ticks at the middle of each cell\n",
    "ax.set_xticks(np.arange(data.shape[0])+0.5, minor=False)\n",
    "ax.set_yticks(np.arange(data.shape[1])+0.5, minor=False)\n",
    "\n",
    "# want a more natural, table-like display\n",
    "ax.invert_yaxis()\n",
    "ax.xaxis.tick_top()\n",
    "\n",
    "ax.set_xticklabels(row_labels, minor=False)\n",
    "ax.set_yticklabels(column_labels, minor=False)\n",
    "plt.title('heatmap after 2000 games \\n (red = high, blue = low  prob)\\n')\n",
    "plt.show()"
   ]
  },
  {
   "cell_type": "markdown",
   "metadata": {},
   "source": [
    "look how nicely distributed our table is"
   ]
  },
  {
   "cell_type": "markdown",
   "metadata": {},
   "source": [
    "## Tournament Random vs Random"
   ]
  },
  {
   "cell_type": "code",
   "execution_count": 9,
   "metadata": {
    "collapsed": false
   },
   "outputs": [
    {
     "data": {
      "image/png": "[encoded data removed]",
      "text/plain": [
       "<matplotlib.figure.Figure at 0x10e63bed0>"
      ]
     },
     "metadata": {},
     "output_type": "display_data"
    }
   ],
   "source": [
    " # Plot the data in 'outcomes' as a histogram\n",
    "plt.hist(outcomes, bins=2)\n",
    "plt.title(\"1. Tournament, draws and wins\")\n",
    "plt.xlabel(\"left: draw, right: win\")\n",
    "plt.ylabel(\"# Games\")   \n",
    "plt.tick_params(\n",
    "    axis='x',          # changes apply to the x-axis\n",
    "    which='both',      # both major and minor ticks are affected\n",
    "    bottom='off',      # ticks along the bottom edge are off\n",
    "    top='off',         # ticks along the top edge are off\n",
    "    labelbottom='off') # labels along the bottom edge are off"
   ]
  },
  {
   "cell_type": "code",
   "execution_count": 11,
   "metadata": {
    "collapsed": false
   },
   "outputs": [
    {
     "data": {
      "image/png": "[encoded data removed]",
      "text/plain": [
       "<matplotlib.figure.Figure at 0x10e88edd0>"
      ]
     },
     "metadata": {},
     "output_type": "display_data"
    }
   ],
   "source": [
    " # Plot the data in 'outcomes' as a histogram\n",
    "plt.hist(outcomes, bins=3)\n",
    "plt.title(\"1. Tournament, draws and wins\")\n",
    "plt.xlabel(\"left: draw,middle:x right: o\")\n",
    "plt.ylabel(\"# Games\")   \n",
    "plt.tick_params(\n",
    "    axis='x',          # changes apply to the x-axis\n",
    "    which='both',      # both major and minor ticks are affected\n",
    "    bottom='off',      # ticks along the bottom edge are off\n",
    "    top='off',         # ticks along the top edge are off\n",
    "    labelbottom='off') # labels along the bottom edge are off"
   ]
  },
  {
   "cell_type": "code",
   "execution_count": null,
   "metadata": {
    "collapsed": true
   },
   "outputs": [],
   "source": []
  }
 ],
 "metadata": {
  "kernelspec": {
   "display_name": "Python 2",
   "language": "python",
   "name": "python2"
  },
  "language_info": {
   "codemirror_mode": {
    "name": "ipython",
    "version": 2
   },
   "file_extension": ".py",
   "mimetype": "text/x-python",
   "name": "python",
   "nbconvert_exporter": "python",
   "pygments_lexer": "ipython2",
   "version": "2.7.9"
  }
 },
 "nbformat": 4,
 "nbformat_minor": 0
}
