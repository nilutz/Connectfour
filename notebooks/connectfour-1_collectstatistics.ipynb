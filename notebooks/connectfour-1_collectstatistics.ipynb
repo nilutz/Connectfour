{
 "cells": [
  {
   "cell_type": "code",
   "execution_count": 41,
   "metadata": {
    "collapsed": true
   },
   "outputs": [],
   "source": [
    "import matplotlib.pyplot as plt\n",
    "%matplotlib inline"
   ]
  },
  {
   "cell_type": "code",
   "execution_count": 42,
   "metadata": {
    "collapsed": false
   },
   "outputs": [
    {
     "name": "stdout",
     "output_type": "stream",
     "text": [
      "Finished\n",
      "[[ 0.00497489  0.0057653   0.00590478  0.00478892  0.00432397  0.00534685\n",
      "   0.00553282]\n",
      " [ 0.01083318  0.01008927  0.00957783  0.00934536  0.0098103   0.00911289\n",
      "   0.00990329]\n",
      " [ 0.01869072  0.02022503  0.02008555  0.01994607  0.01952762  0.01915566\n",
      "   0.02017854]\n",
      " [ 0.02594383  0.028687    0.02877999  0.03054677  0.02854752  0.02645527\n",
      "   0.02389808]\n",
      " [ 0.0327785   0.03631207  0.03910173  0.04021759  0.03821834  0.03301097\n",
      "   0.03291798]\n",
      " [ 0.03989213  0.0417984   0.04565743  0.05439836  0.04649433  0.04244932\n",
      "   0.04077553]]\n"
     ]
    }
   ],
   "source": [
    "import numpy as np\n",
    "\n",
    "def move_is_correct(grid,num):\n",
    "    '''\n",
    "    @param grid: 6x7 grid containing the current game state\n",
    "    @param num: column\n",
    "\n",
    "    returns True if move is allowed on that column\n",
    "    '''\n",
    "\n",
    "    #if 0 is in column\n",
    "    if 0 in grid[:,num]:\n",
    "    \n",
    "        #move is allowed\n",
    "        return True\n",
    "\n",
    "    else:\n",
    "\n",
    "        return False\n",
    "\n",
    "def move_still_possible(S):\n",
    "    '''\n",
    "    @param S: 6x7 grid containing the current game state\n",
    "    returns True if grid contains no 0, therefore no move possible anymore\n",
    "    '''\n",
    "    return not(S[S==0].size == 0)\n",
    "\n",
    "\n",
    "def move(S,p,col_num):\n",
    "    '''\n",
    "    @param S: 6x7 grid containing the current game state\n",
    "    @param p: current player\n",
    "    @param col_num: column number\n",
    "    \n",
    "    sets the player's number on the grid and returns the grid\n",
    "    '''\n",
    "    \n",
    "    #sanity check\n",
    "    if 0 in S[:,col_num]:    \n",
    "        y = np.where(S[:,col_num]==0)[0][-1]\n",
    "        S[y,col_num] = p\n",
    "        return S , y, col_num\n",
    "    else:\n",
    "        return S, None, None\n",
    "        return \n",
    "\n",
    "def move_at_random(S):\n",
    "    '''\n",
    "    @param S: 6x7 grid containing the current game state\n",
    "    moves at random\n",
    "    '''\n",
    "    return np.random.randint(0,S.shape[1])\n",
    "\n",
    "\n",
    "#neat and ugly but the fastest way to search a matrix for a vector is a string find\n",
    "player1 = '1 1 1 1'\n",
    "oponent = '2 2 2 2'\n",
    "\n",
    "def move_was_winning_move(S, p):\n",
    "    '''\n",
    "    @param S: 6x7 grid containing the current game state\n",
    "    @param p: current player\n",
    "    \n",
    "    combines all the allowed formations of the grid and string_finds with \n",
    "    the currents player vector. Returns true if match.\n",
    "    '''\n",
    "    if p == 1:\n",
    "        match = player1\n",
    "    else:\n",
    "        match = oponent \n",
    "\n",
    "    l=[]\n",
    "    #for every possible diag\n",
    "    for i in range(-2,4):\n",
    "        l.append(np.diag(S,k = i))\n",
    "        l.append(np.diag(np.fliplr(S),k=i))\n",
    "    #left to right\n",
    "    l.append(S)\n",
    "    #top to bottom\n",
    "    l.append(np.rot90(S)) \n",
    "\n",
    "    if ''.join(np.array_str(e) for e in l).find(match) > -1:\n",
    "        return True\n",
    "    return False\n",
    "\n",
    "\n",
    "\n",
    "# relate numbers (1, -1, 0) to symbols ('x', 'o', ' ')\n",
    "symbols = {1:'b', 2:'r', 0:' '}\n",
    "\n",
    "# print game state matrix using symbols\n",
    "def print_game_state(S):\n",
    "    B = np.copy(S).astype(object)\n",
    "    for n in [1, 2, 0]:\n",
    "        B[B==n] = symbols[n]\n",
    "    print B\n",
    "\n",
    "\n",
    "\n",
    "\n",
    "\n",
    "if __name__ == '__main__':\n",
    "    \n",
    "    # initialize array that counts how often a cell contributed to a win\n",
    "    final = np.zeros((6,7), dtype = float)  \n",
    "    outcomes = []\n",
    "    \n",
    "    for i in range(2000):\n",
    "        # initialize 6x7 connectfour board\n",
    "        gameState = np.zeros((6,7), dtype=int)\n",
    "\n",
    "        # initialize player number, move counter\n",
    "        player = 1\n",
    "        mvcntr = 1\n",
    "\n",
    "        # initialize flag that indicates win\n",
    "        noWinnerYet = True\n",
    "\n",
    "\n",
    "        while move_still_possible(gameState) and noWinnerYet:\n",
    "            \n",
    "            while True:\n",
    "                # get player symbol\n",
    "                name = symbols[player]\n",
    "                #print '%s moves' % name\n",
    "                \n",
    "                # let player move at random\n",
    "                col_num = move_at_random(gameState)\n",
    "                if move_is_correct(gameState, col_num):\n",
    "                    gameState, _ , _ = move(gameState,player,col_num)\n",
    "\n",
    "                    #print current game state\n",
    "                    #print_game_state(gameState)\n",
    "\n",
    "                    # evaluate game state\n",
    "                    if move_was_winning_move(gameState, player):\n",
    "                        #print 'player %s wins after %d moves' % (name, mvcntr)\n",
    "\n",
    "                        # determine who won\n",
    "                        winner = player\n",
    "                        # get the positions of the fields the winner selected\n",
    "                        xp, yp = np.where(gameState == winner)\n",
    "                        # update \"final\" which counts how often a cell contributed\n",
    "                        # to a win\n",
    "                        final[xp,yp] +=1\n",
    "                        #for i in range(0, len(xp)):\n",
    "                        #    final[xp[i], yp[i]] += 1\n",
    "                \n",
    "                        noWinnerYet = False\n",
    "                        \n",
    "                        #add to outcomes list which winner\n",
    "                        outcomes.append(player)\n",
    "\n",
    "                    # switch player and increase move counter\n",
    "                    if player == 1:\n",
    "                        player = 2\n",
    "                    else :\n",
    "                        player = 1\n",
    "\n",
    "                    mvcntr +=  1\n",
    "                \n",
    "                    break\n",
    "\n",
    "        if noWinnerYet:\n",
    "            #0 for draw\n",
    "            outcomes.append(0)\n",
    "            #print 'game ended in a draw' \n",
    "            \n",
    "    print 'Finished'\n",
    "    \n",
    "    # normalize the count data and store it on disk\n",
    "    normed_final = final / np.sum(final, dtype=np.float)\n",
    "    print normed_final\n",
    "    np.savetxt(\"normed_count.csv\", normed_final, delimiter=\",\")\n"
   ]
  },
  {
   "cell_type": "code",
   "execution_count": 47,
   "metadata": {
    "collapsed": false
   },
   "outputs": [
    {
     "data": {
      "image/png": "[encoded data removed]",
      "text/plain": [
       "<matplotlib.figure.Figure at 0x113107710>"
      ]
     },
     "metadata": {},
     "output_type": "display_data"
    }
   ],
   "source": [
    "data = normed_final\n",
    "fig, ax = plt.subplots()\n",
    "heatmap = ax.pcolor(data)\n",
    "cbar = plt.colorbar(heatmap)\n",
    "ax.set_xticks([])\n",
    "ax.set_yticks([])\n",
    "\n",
    "ax.invert_yaxis()\n",
    "\n",
    "plt.title('Heatmap after 2000 games \\n')\n",
    "plt.show()"
   ]
  },
  {
   "cell_type": "markdown",
   "metadata": {},
   "source": [
    "look how nicely distributed our table is"
   ]
  },
  {
   "cell_type": "markdown",
   "metadata": {},
   "source": [
    "## Tournament Random vs Random"
   ]
  },
  {
   "cell_type": "code",
   "execution_count": 46,
   "metadata": {
    "collapsed": false
   },
   "outputs": [
    {
     "data": {
      "text/plain": [
       "[<matplotlib.text.Text at 0x10b28d710>,\n",
       " <matplotlib.text.Text at 0x110f3f8d0>,\n",
       " <matplotlib.text.Text at 0x10a942d10>]"
      ]
     },
     "execution_count": 46,
     "metadata": {},
     "output_type": "execute_result"
    },
    {
     "data": {
      "image/png": "[encoded data removed]",
      "text/plain": [
       "<matplotlib.figure.Figure at 0x112bb9910>"
      ]
     },
     "metadata": {},
     "output_type": "display_data"
    }
   ],
   "source": [
    "his = plt.hist(outcomes,bins=3)\n",
    "offset = -.3\n",
    "plt.title(\"1st Tournament, draws and wins\")\n",
    "#plt.xlabel(\"left: o wins, middle: draw, right: x wins\")\n",
    "plt.ylabel(\"# Games\") \n",
    "axes = plt.gca()\n",
    "axes.set_ylim([0,2100]) # y axis should include all 2000 games\n",
    "axes.set_xlim([0,2.0])\n",
    "axes.set_xticks(his[1][1:]+offset)\n",
    "axes.set_xticklabels( ('draw', 'Blue wins', 'Red wins') )   "
   ]
  },
  {
   "cell_type": "code",
   "execution_count": null,
   "metadata": {
    "collapsed": true
   },
   "outputs": [],
   "source": []
  }
 ],
 "metadata": {
  "kernelspec": {
   "display_name": "Python 2",
   "language": "python",
   "name": "python2"
  },
  "language_info": {
   "codemirror_mode": {
    "name": "ipython",
    "version": 2
   },
   "file_extension": ".py",
   "mimetype": "text/x-python",
   "name": "python",
   "nbconvert_exporter": "python",
   "pygments_lexer": "ipython2",
   "version": "2.7.9"
  }
 },
 "nbformat": 4,
 "nbformat_minor": 0
}
